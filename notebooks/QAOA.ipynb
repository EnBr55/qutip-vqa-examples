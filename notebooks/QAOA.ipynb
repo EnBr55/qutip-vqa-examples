{
 "cells": [
  {
   "cell_type": "markdown",
   "metadata": {},
   "source": [
    "## Finding Approximate Solution to the Number Partitioning Problem\n",
    "\n",
    "Here we demonstrate a potential use-case of the suggested VQA class for QuTiP, in particular implementing the Quantum Approximate Optimisation Algorithm (QAOA) for use with the `number-partitioning` problem.\n",
    "\n",
    "### Number Partititioning Problem\n",
    "\n",
    "`number-partitioning` asks:\n",
    "\n",
    "Given a set, $S$, of positive integers, is there a partitioning of $S$ into two sets, $S_0$ and $S_1$, such that\n",
    "$$\n",
    "\\sum S_0 = \\sum S_1 \\qquad\\text{where } S_0 \\cup S_1 = S, \\qquad S_0 \\cap S_1 = \\emptyset ?\n",
    "$$\n",
    "\n",
    "i.e. two sets with the same sum (or in the optimisation version of the problem, the difference between their sum in minimised).\n",
    "\n",
    "For example the problem instance $S = [1, 4, 3]$ has two solutions:\n",
    "\n",
    "$$\n",
    "S_0 = [1, 3],~S_1 = [4] \\qquad S_0 = [4],~S_1 = [1, 3].\n",
    "$$\n",
    "\n",
    "### QAOA\n",
    "\n",
    "Here we will skip to the result of [the QAOA algorithm](https://arxiv.org/abs/1411.4028).\n",
    "\n",
    "\\begin{align}\n",
    "U(\\beta, \\gamma) = \\prod_{j=0}^p e^{-\\beta_j H_B}e^{-i\\gamma_j H_P} \n",
    "\\end{align}\n",
    "\n",
    "Where $U(\\beta, \\gamma)$ is the unitary which can be implemented by some quantum circuit in which\n",
    "- $p$ is the number of \"layers\".\n",
    "- $\\beta$ and $\\gamma$ are both lists of $p$ free parameters, updated by the classical optimiser. \n",
    "- $H_P$ is the \"problem Hamiltonian\", in this case whose ground state encodes the solution to a number partitioning instance (more on this shortly).\n",
    "- $H_B$ is a mixing Hamiltonian, which should not commute with $H_P$."
   ]
  },
  {
   "cell_type": "code",
   "execution_count": 1,
   "metadata": {},
   "outputs": [],
   "source": [
    "# Imports\n",
    "import numpy as np\n",
    "from qutip import Qobj, tensor\n",
    "from qutip_qip.operations import z_gate, x_gate, snot\n",
    "from qutip_qip.vqa import VQA, VQA_Block # new module!"
   ]
  },
  {
   "cell_type": "markdown",
   "metadata": {},
   "source": [
    "## Defining a Problem Hamiltonian\n",
    "\n",
    "Based on our problem structure, we may know how to encode our problem into a Hamiltonian. For many NP complete problems, [this paper](https://arxiv.org/abs/1302.5843) gives Ising formulations, which, usually, can easily translate to Hamiltonians.\n",
    "\n",
    "For the Number Partitioning problem, we want our Hamiltonian to encode the fact that there is an energy cost associated with the difference between the sum of the two sets. Therefore, we could assign a positive +1 weight to all the elements of one set, and a -1 weight to all elements of the other and take our cost as the sum over S with these weights applied. \n",
    "\n",
    "For any proposed solution to a problem instance $S$, where $S$ contains $N$, elements, we give a list, $W$, of $N$ of these weights ($w_0, w_1, \\dots w_{N-1}$), corresponding to the partitioning of the elements of $S$. \n",
    "\n",
    "Returning to our example before, we had $S = [1, 4, 3]$. One solution would be to choose $W = [1, -1, 1]$.\n",
    "\n",
    "It should be clear then that the cost of any solution is given by\n",
    "\n",
    "$$\n",
    "C(S, W) = \\left(\\sum_{i=0}^{N-1} w_i s_i\\right)^2\n",
    "$$\n",
    "\n",
    "We can write our problem Hamiltonian as\n",
    "\n",
    "\\begin{align}\n",
    "H_P = \\left(\\sum_{i=0}^{N-1} \\sigma^{(i)}_z s_i \\right)^2\n",
    "\\end{align}\n",
    "\n",
    "Where $\\sigma_z$ is the Pauli $Z$ operator, and the superscript denotes that it operates on the *i*-th qubit."
   ]
  },
  {
   "cell_type": "code",
   "execution_count": 2,
   "metadata": {},
   "outputs": [],
   "source": [
    "# Implementing H_P in QuTiP\n",
    "def H_P(S):\n",
    "    \"\"\"\n",
    "    Parameters\n",
    "    ----------\n",
    "    S : list of int\n",
    "        Problem instance array, containing positive integers\n",
    "    \n",
    "    Returns\n",
    "    -------\n",
    "    H_P : Qobj\n",
    "        Problem Hamiltonian corresponding to problem instance\n",
    "    \"\"\"\n",
    "    zeros = Qobj(np.zeros([2, 2]))\n",
    "    # Construct zero matrix Qobj\n",
    "    H = zeros\n",
    "    for i in range(len(S) - 1):\n",
    "        H = tensor(H, zeros)\n",
    "    # Weight each element of S by pauli Z operator (as in eqn (2))\n",
    "    for i, s in enumerate(S):\n",
    "        H += s * z_gate(N=len(S), target=i)\n",
    "    return pow(H, 2)\n",
    "\"\"\"\n",
    "The form of the mixing Hamiltonian is more free. In this case\n",
    "we use a pauli X operator on each qubit for simplicity.\n",
    "\"\"\"\n",
    "# Mixing Hamiltonian\n",
    "def H_B(S):\n",
    "    zeros = Qobj(np.zeros([2, 2]))\n",
    "    H = zeros\n",
    "    for i in range(len(S) - 1):\n",
    "        H = tensor(H, zeros)\n",
    "    for i, s in enumerate(S):\n",
    "        H += x_gate(N=len(S), target=i)\n",
    "    return H"
   ]
  },
  {
   "cell_type": "markdown",
   "metadata": {},
   "source": [
    "## Simulating in QuTiP\n",
    "\n",
    "After specifying our Hamiltonians, all that's left to do is initialise an instance of the VQA class, set up our circuit in the form of eqn (1), and hit optimise."
   ]
  },
  {
   "cell_type": "code",
   "execution_count": 3,
   "metadata": {},
   "outputs": [
    {
     "name": "stderr",
     "output_type": "stream",
     "text": [
      "/home/ben/.conda/envs/qutip-dev/lib/python3.9/site-packages/qutip/qip/circuit.py:274: UserWarning: Unknown gate H_P\n",
      "  warnings.warn(\"Unknown gate %s\" % name)\n",
      "/home/ben/.conda/envs/qutip-dev/lib/python3.9/site-packages/qutip/qip/circuit.py:274: UserWarning: Unknown gate H_B\n",
      "  warnings.warn(\"Unknown gate %s\" % name)\n"
     ]
    },
    {
     "data": {
      "image/png": "[encoded data removed]",
      "text/plain": [
       "<qutip.qip.circuit.QubitCircuit at 0x7feaac2aebb0>"
      ]
     },
     "execution_count": 3,
     "metadata": {},
     "output_type": "execute_result"
    }
   ],
   "source": [
    "S = [1, 3, 4] # Problem instance\n",
    "\n",
    "n_qubits = len(S) # Need one qubit for each element of S\n",
    "\n",
    "VQA_circuit = VQA(\n",
    "    n_qubits = n_qubits,\n",
    "    n_layers = 3,\n",
    "    cost_method = \"OBSERVABLE\"\n",
    ")\n",
    "\n",
    "# Define blocks holding our problem and mixing hamiltonian\n",
    "H_P_Block = VQA_Block(H_P(S), name=\"H_P\")\n",
    "H_B_Block = VQA_Block(H_B(S), name=\"H_B\")\n",
    "\n",
    "# Generate initial circuit state by applying Hadamards to every qubit\n",
    "for i in range(n_qubits):\n",
    "    VQA_circuit.add_block(\n",
    "        VQA_Block(\"SNOT\", targets=[i], initial=True)\n",
    "        )\n",
    "# Add in our layered blocks\n",
    "VQA_circuit.add_block(H_P_Block)\n",
    "VQA_circuit.add_block(H_B_Block)\n",
    "\n",
    "# Set cost function to be expectation value of H_P\n",
    "VQA_circuit.cost_observable = H_P(S)\n",
    "\n",
    "# Visualising the circuit\n",
    "free_params = VQA_circuit.get_free_parameters()\n",
    "# construct circuit instance with dummy (0) parameters\n",
    "VQA_circuit.construct_circuit([0 for i in range(free_params)])"
   ]
  },
  {
   "cell_type": "code",
   "execution_count": 4,
   "metadata": {},
   "outputs": [
    {
     "name": "stdout",
     "output_type": "stream",
     "text": [
      "Optimization Result:\n",
      "\tMinimum cost: 0.7529466038347549\n",
      "\tNumber of function evaluations: 1000\n",
      "\tParameters found: [0.98570766 2.03451589 1.00927264 1.09546529 0.99991276 1.94725328]\n"
     ]
    },
    {
     "data": {
      "image/png": "[encoded data removed]",
      "text/plain": [
       "<Figure size 432x288 with 1 Axes>"
      ]
     },
     "metadata": {
      "needs_background": "light"
     },
     "output_type": "display_data"
    }
   ],
   "source": [
    "result = VQA_circuit.optimise_parameters()\n",
    "print(result)\n",
    "result.plot(S)"
   ]
  },
  {
   "cell_type": "code",
   "execution_count": 5,
   "metadata": {},
   "outputs": [
    {
     "name": "stdout",
     "output_type": "stream",
     "text": [
      "Quantum object: dims = [[2, 2, 2], [1, 1, 1]], shape = (8, 1), type = ket\n",
      "Qobj data =\n",
      "[[-0.00057032-0.00975131j]\n",
      " [ 0.20158315-0.64895026j]\n",
      " [-0.03094372+0.17426257j]\n",
      " [-0.07819114+0.02633558j]\n",
      " [-0.07819114+0.02633558j]\n",
      " [-0.03094372+0.17426257j]\n",
      " [ 0.20158315-0.64895026j]\n",
      " [-0.00057032-0.00975131j]]\n"
     ]
    }
   ],
   "source": [
    "print(result.final_state)"
   ]
  }
 ],
 "metadata": {
  "interpreter": {
   "hash": "32cc7fbb4ba258c3544da850ac0099c2f45a059c6aa638f680b76301aec5b751"
  },
  "kernelspec": {
   "display_name": "Python 3.9.7 64-bit ('qutip-dev': conda)",
   "name": "python3"
  },
  "language_info": {
   "codemirror_mode": {
    "name": "ipython",
    "version": 3
   },
   "file_extension": ".py",
   "mimetype": "text/x-python",
   "name": "python",
   "nbconvert_exporter": "python",
   "pygments_lexer": "ipython3",
   "version": "3.9.7"
  },
  "orig_nbformat": 4
 },
 "nbformat": 4,
 "nbformat_minor": 2
}
